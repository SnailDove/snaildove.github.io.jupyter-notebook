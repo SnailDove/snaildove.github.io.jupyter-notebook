{
 "cells": [
  {
   "attachments": {},
   "cell_type": "markdown",
   "metadata": {},
   "source": [
    "# 0.8372 方案\n",
    "\n",
    "**启发自**：https://www.kaggle.com/cdeotte/titantic-mega-model-0-84210 A5节83.2%，在这基础之上改进：0.5% \n",
    "\n",
    "![image.png](http://qx9wtq3rb.bkt.clouddn.com/gitpages/kaggle/Titanic/1.png)\n",
    "![image.png](http://qx9wtq3rb.bkt.clouddn.com/gitpages/kaggle/Titanic/2.png)\n",
    "\n",
    "**与0.82275方案，主要改进：非男孩的男性不列入\"女性男孩组\"，即分组之前先将非男孩的男性统一划分为\"NoGroup\", 然后再按照name Ticket两个特征得到其他特征。**"
   ]
  },
  {
   "cell_type": "code",
   "execution_count": 51,
   "metadata": {},
   "outputs": [],
   "source": [
    "import pandas as pd #数据分析\n",
    "import numpy as np #科学计算\n",
    "import seaborn as sns\n",
    "import pylab \n",
    "import matplotlib.pyplot as plt\n",
    "\n",
    "%matplotlib inline\n",
    "\n",
    "sns.set_style(\"whitegrid\") "
   ]
  },
  {
   "cell_type": "code",
   "execution_count": 52,
   "metadata": {},
   "outputs": [],
   "source": [
    "train = pd.read_csv('./data/train.csv')\n",
    "test = pd.read_csv('./data/test.csv')\n",
    "\n",
    "all_data = pd.concat([train, test], ignore_index = True)"
   ]
  },
  {
   "cell_type": "code",
   "execution_count": 53,
   "metadata": {},
   "outputs": [],
   "source": [
    "def getTitleFeature(dataset):\n",
    "    upper_limit_children = 12\n",
    "    dataset['Title'] = 'man'\n",
    "    dataset.loc[dataset.Sex == 'female', 'Title'] = 'woman'\n",
    "    dataset.loc[dataset.Name.str.contains('Master') | ((dataset.Age <= upper_limit_children) & (dataset.Sex == 'male')), 'Title'] = 'boy'\n",
    "\n",
    "def getSurnameGroupId(dataset):\n",
    "    dataset['Surname']=dataset['Name'].apply(lambda x:x.split(',')[0].strip())\n",
    "    dataset['SurnameGroupId'] = dataset.apply(lambda row : str(row.Surname + '-' + str(row.Pclass) + '-' + str(row.Fare) + '-' + str(row.Embarked) + '-' + row.Ticket[:-2] + '__'), axis = 1)\n",
    "    \n",
    "def getSurnameGroupSize(dataset):\n",
    "    surname_group_id_value_counts = dataset['SurnameGroupId'].value_counts()\n",
    "    dataset['SurnameGroupSize'] = dataset.SurnameGroupId.apply(lambda x: surname_group_id_value_counts.loc[x])\n",
    "    \n",
    "def getTicketGroupId(dataset):\n",
    "    dataset['TicketGroupId'] = dataset.apply(lambda row : str(str(row.Pclass) + '-' + str(row.Embarked) + '-' + str(row.Fare) + '-' + row.Ticket[:-1] + '_'), axis = 1)\n",
    "\n",
    "def getSurnameGroupSurvival(dataset, indices_train_set):\n",
    "    '''\n",
    "    @dataset: a combination of train set and test set\n",
    "    @indices_train_set: \n",
    "    '''\n",
    "    dataset['SurnameGroupSurvived'] = np.NaN\n",
    "    surname_group_survived_mean = dataset.loc[indices_train_set, ['SurnameGroupId', 'Survived']].groupby(['SurnameGroupId']).Survived.mean()\n",
    "    dataset.loc[indices_train_set, 'SurnameGroupSurvived'] = dataset.loc[indices_train_set, 'SurnameGroupId'].apply(lambda x: surname_group_survived_mean.loc[x])\n",
    "    \n",
    "def addNanniesCousinsFriends(dataset, verbose = False):\n",
    "    # solo women and children\n",
    "    count = 0\n",
    "    ##\n",
    "    indices_solo_woman_child = dataset.loc[(dataset.Title != 'man') & (dataset.SurnameGroupId == 'nogroup')].index\n",
    "    for idx in indices_solo_woman_child:\n",
    "        items = dataset.loc[(dataset.TicketGroupId == dataset.loc[idx, 'TicketGroupId']) & (dataset.loc[idx, 'PassengerId'] != dataset.PassengerId), 'SurnameGroupId']\n",
    "        if items.shape[0] > 0:\n",
    "            dataset.loc[idx, 'SurnameGroupId'] = items.iloc[0]\n",
    "        if (dataset.loc[idx,'SurnameGroupId'] != 'nogroup'): #单独出行的两个人，即使是朋友一起出行也不能加在一起\n",
    "            count += 1\n",
    "            if verbose:\n",
    "                print(dataset.loc[idx,'SurnameGroupId'])\n",
    "    if verbose:\n",
    "        print('Tootally adding %d nannies, cousins and friends' % count)"
   ]
  },
  {
   "cell_type": "markdown",
   "metadata": {},
   "source": [
    "## Name feature"
   ]
  },
  {
   "cell_type": "code",
   "execution_count": 54,
   "metadata": {},
   "outputs": [
    {
     "data": {
      "text/html": [
       "<div>\n",
       "<style scoped>\n",
       "    .dataframe tbody tr th:only-of-type {\n",
       "        vertical-align: middle;\n",
       "    }\n",
       "\n",
       "    .dataframe tbody tr th {\n",
       "        vertical-align: top;\n",
       "    }\n",
       "\n",
       "    .dataframe thead th {\n",
       "        text-align: right;\n",
       "    }\n",
       "</style>\n",
       "<table border=\"1\" class=\"dataframe\">\n",
       "  <thead>\n",
       "    <tr style=\"text-align: right;\">\n",
       "      <th></th>\n",
       "      <th>Age</th>\n",
       "      <th>Cabin</th>\n",
       "      <th>Embarked</th>\n",
       "      <th>Fare</th>\n",
       "      <th>Name</th>\n",
       "      <th>Parch</th>\n",
       "      <th>PassengerId</th>\n",
       "      <th>Pclass</th>\n",
       "      <th>Sex</th>\n",
       "      <th>SibSp</th>\n",
       "      <th>Survived</th>\n",
       "      <th>Ticket</th>\n",
       "      <th>Surname</th>\n",
       "    </tr>\n",
       "  </thead>\n",
       "  <tbody>\n",
       "    <tr>\n",
       "      <th>0</th>\n",
       "      <td>22.0</td>\n",
       "      <td>NaN</td>\n",
       "      <td>S</td>\n",
       "      <td>7.2500</td>\n",
       "      <td>Braund, Mr. Owen Harris</td>\n",
       "      <td>0</td>\n",
       "      <td>1</td>\n",
       "      <td>3</td>\n",
       "      <td>male</td>\n",
       "      <td>1</td>\n",
       "      <td>0.0</td>\n",
       "      <td>A/5 21171</td>\n",
       "      <td>Braund</td>\n",
       "    </tr>\n",
       "    <tr>\n",
       "      <th>1</th>\n",
       "      <td>38.0</td>\n",
       "      <td>C85</td>\n",
       "      <td>C</td>\n",
       "      <td>71.2833</td>\n",
       "      <td>Cumings, Mrs. John Bradley (Florence Briggs Th...</td>\n",
       "      <td>0</td>\n",
       "      <td>2</td>\n",
       "      <td>1</td>\n",
       "      <td>female</td>\n",
       "      <td>1</td>\n",
       "      <td>1.0</td>\n",
       "      <td>PC 17599</td>\n",
       "      <td>Cumings</td>\n",
       "    </tr>\n",
       "    <tr>\n",
       "      <th>2</th>\n",
       "      <td>26.0</td>\n",
       "      <td>NaN</td>\n",
       "      <td>S</td>\n",
       "      <td>7.9250</td>\n",
       "      <td>Heikkinen, Miss. Laina</td>\n",
       "      <td>0</td>\n",
       "      <td>3</td>\n",
       "      <td>3</td>\n",
       "      <td>female</td>\n",
       "      <td>0</td>\n",
       "      <td>1.0</td>\n",
       "      <td>STON/O2. 3101282</td>\n",
       "      <td>Heikkinen</td>\n",
       "    </tr>\n",
       "    <tr>\n",
       "      <th>3</th>\n",
       "      <td>35.0</td>\n",
       "      <td>C123</td>\n",
       "      <td>S</td>\n",
       "      <td>53.1000</td>\n",
       "      <td>Futrelle, Mrs. Jacques Heath (Lily May Peel)</td>\n",
       "      <td>0</td>\n",
       "      <td>4</td>\n",
       "      <td>1</td>\n",
       "      <td>female</td>\n",
       "      <td>1</td>\n",
       "      <td>1.0</td>\n",
       "      <td>113803</td>\n",
       "      <td>Futrelle</td>\n",
       "    </tr>\n",
       "    <tr>\n",
       "      <th>4</th>\n",
       "      <td>35.0</td>\n",
       "      <td>NaN</td>\n",
       "      <td>S</td>\n",
       "      <td>8.0500</td>\n",
       "      <td>Allen, Mr. William Henry</td>\n",
       "      <td>0</td>\n",
       "      <td>5</td>\n",
       "      <td>3</td>\n",
       "      <td>male</td>\n",
       "      <td>0</td>\n",
       "      <td>0.0</td>\n",
       "      <td>373450</td>\n",
       "      <td>Allen</td>\n",
       "    </tr>\n",
       "  </tbody>\n",
       "</table>\n",
       "</div>"
      ],
      "text/plain": [
       "    Age Cabin Embarked     Fare  \\\n",
       "0  22.0   NaN        S   7.2500   \n",
       "1  38.0   C85        C  71.2833   \n",
       "2  26.0   NaN        S   7.9250   \n",
       "3  35.0  C123        S  53.1000   \n",
       "4  35.0   NaN        S   8.0500   \n",
       "\n",
       "                                                Name  Parch  PassengerId  \\\n",
       "0                            Braund, Mr. Owen Harris      0            1   \n",
       "1  Cumings, Mrs. John Bradley (Florence Briggs Th...      0            2   \n",
       "2                             Heikkinen, Miss. Laina      0            3   \n",
       "3       Futrelle, Mrs. Jacques Heath (Lily May Peel)      0            4   \n",
       "4                           Allen, Mr. William Henry      0            5   \n",
       "\n",
       "   Pclass     Sex  SibSp  Survived            Ticket    Surname  \n",
       "0       3    male      1       0.0         A/5 21171     Braund  \n",
       "1       1  female      1       1.0          PC 17599    Cumings  \n",
       "2       3  female      0       1.0  STON/O2. 3101282  Heikkinen  \n",
       "3       1  female      1       1.0            113803   Futrelle  \n",
       "4       3    male      0       0.0            373450      Allen  "
      ]
     },
     "execution_count": 54,
     "metadata": {},
     "output_type": "execute_result"
    }
   ],
   "source": [
    "all_data['Surname']=all_data['Name'].apply(lambda x:x.split(',')[0].strip())\n",
    "all_data.head()"
   ]
  },
  {
   "cell_type": "markdown",
   "metadata": {},
   "source": [
    "## SurnameGroupId"
   ]
  },
  {
   "cell_type": "code",
   "execution_count": 55,
   "metadata": {},
   "outputs": [
    {
     "data": {
      "text/html": [
       "<div>\n",
       "<style scoped>\n",
       "    .dataframe tbody tr th:only-of-type {\n",
       "        vertical-align: middle;\n",
       "    }\n",
       "\n",
       "    .dataframe tbody tr th {\n",
       "        vertical-align: top;\n",
       "    }\n",
       "\n",
       "    .dataframe thead th {\n",
       "        text-align: right;\n",
       "    }\n",
       "</style>\n",
       "<table border=\"1\" class=\"dataframe\">\n",
       "  <thead>\n",
       "    <tr style=\"text-align: right;\">\n",
       "      <th></th>\n",
       "      <th>Age</th>\n",
       "      <th>Cabin</th>\n",
       "      <th>Embarked</th>\n",
       "      <th>Fare</th>\n",
       "      <th>PassengerId</th>\n",
       "      <th>Pclass</th>\n",
       "      <th>Sex</th>\n",
       "      <th>Ticket</th>\n",
       "      <th>Surname</th>\n",
       "      <th>SurnameGroupId</th>\n",
       "    </tr>\n",
       "  </thead>\n",
       "  <tbody>\n",
       "    <tr>\n",
       "      <th>0</th>\n",
       "      <td>22.0</td>\n",
       "      <td>NaN</td>\n",
       "      <td>S</td>\n",
       "      <td>7.2500</td>\n",
       "      <td>1</td>\n",
       "      <td>3</td>\n",
       "      <td>male</td>\n",
       "      <td>A/5 21171</td>\n",
       "      <td>Braund</td>\n",
       "      <td>Braund-3-7.25-S-A/5 211__</td>\n",
       "    </tr>\n",
       "    <tr>\n",
       "      <th>1</th>\n",
       "      <td>38.0</td>\n",
       "      <td>C85</td>\n",
       "      <td>C</td>\n",
       "      <td>71.2833</td>\n",
       "      <td>2</td>\n",
       "      <td>1</td>\n",
       "      <td>female</td>\n",
       "      <td>PC 17599</td>\n",
       "      <td>Cumings</td>\n",
       "      <td>Cumings-1-71.2833-C-PC 175__</td>\n",
       "    </tr>\n",
       "    <tr>\n",
       "      <th>2</th>\n",
       "      <td>26.0</td>\n",
       "      <td>NaN</td>\n",
       "      <td>S</td>\n",
       "      <td>7.9250</td>\n",
       "      <td>3</td>\n",
       "      <td>3</td>\n",
       "      <td>female</td>\n",
       "      <td>STON/O2. 3101282</td>\n",
       "      <td>Heikkinen</td>\n",
       "      <td>Heikkinen-3-7.925-S-STON/O2. 31012__</td>\n",
       "    </tr>\n",
       "    <tr>\n",
       "      <th>3</th>\n",
       "      <td>35.0</td>\n",
       "      <td>C123</td>\n",
       "      <td>S</td>\n",
       "      <td>53.1000</td>\n",
       "      <td>4</td>\n",
       "      <td>1</td>\n",
       "      <td>female</td>\n",
       "      <td>113803</td>\n",
       "      <td>Futrelle</td>\n",
       "      <td>Futrelle-1-53.1-S-1138__</td>\n",
       "    </tr>\n",
       "    <tr>\n",
       "      <th>4</th>\n",
       "      <td>35.0</td>\n",
       "      <td>NaN</td>\n",
       "      <td>S</td>\n",
       "      <td>8.0500</td>\n",
       "      <td>5</td>\n",
       "      <td>3</td>\n",
       "      <td>male</td>\n",
       "      <td>373450</td>\n",
       "      <td>Allen</td>\n",
       "      <td>Allen-3-8.05-S-3734__</td>\n",
       "    </tr>\n",
       "  </tbody>\n",
       "</table>\n",
       "</div>"
      ],
      "text/plain": [
       "    Age Cabin Embarked     Fare  PassengerId  Pclass     Sex  \\\n",
       "0  22.0   NaN        S   7.2500            1       3    male   \n",
       "1  38.0   C85        C  71.2833            2       1  female   \n",
       "2  26.0   NaN        S   7.9250            3       3  female   \n",
       "3  35.0  C123        S  53.1000            4       1  female   \n",
       "4  35.0   NaN        S   8.0500            5       3    male   \n",
       "\n",
       "             Ticket    Surname                        SurnameGroupId  \n",
       "0         A/5 21171     Braund             Braund-3-7.25-S-A/5 211__  \n",
       "1          PC 17599    Cumings          Cumings-1-71.2833-C-PC 175__  \n",
       "2  STON/O2. 3101282  Heikkinen  Heikkinen-3-7.925-S-STON/O2. 31012__  \n",
       "3            113803   Futrelle              Futrelle-1-53.1-S-1138__  \n",
       "4            373450      Allen                 Allen-3-8.05-S-3734__  "
      ]
     },
     "execution_count": 55,
     "metadata": {},
     "output_type": "execute_result"
    }
   ],
   "source": [
    "getSurnameGroupId(all_data)\n",
    "\n",
    "all_data.drop(['SibSp', 'Parch', 'Survived', 'Name'], axis = 1).head()"
   ]
  },
  {
   "cell_type": "markdown",
   "metadata": {},
   "source": [
    "## Title feature"
   ]
  },
  {
   "cell_type": "code",
   "execution_count": 56,
   "metadata": {},
   "outputs": [
    {
     "data": {
      "text/html": [
       "<div>\n",
       "<style scoped>\n",
       "    .dataframe tbody tr th:only-of-type {\n",
       "        vertical-align: middle;\n",
       "    }\n",
       "\n",
       "    .dataframe tbody tr th {\n",
       "        vertical-align: top;\n",
       "    }\n",
       "\n",
       "    .dataframe thead th {\n",
       "        text-align: right;\n",
       "    }\n",
       "</style>\n",
       "<table border=\"1\" class=\"dataframe\">\n",
       "  <thead>\n",
       "    <tr style=\"text-align: right;\">\n",
       "      <th></th>\n",
       "      <th>Age</th>\n",
       "      <th>Cabin</th>\n",
       "      <th>Embarked</th>\n",
       "      <th>Fare</th>\n",
       "      <th>Name</th>\n",
       "      <th>Parch</th>\n",
       "      <th>PassengerId</th>\n",
       "      <th>Pclass</th>\n",
       "      <th>Sex</th>\n",
       "      <th>SibSp</th>\n",
       "      <th>Survived</th>\n",
       "      <th>Ticket</th>\n",
       "      <th>Surname</th>\n",
       "      <th>SurnameGroupId</th>\n",
       "      <th>Title</th>\n",
       "    </tr>\n",
       "  </thead>\n",
       "  <tbody>\n",
       "    <tr>\n",
       "      <th>0</th>\n",
       "      <td>22.0</td>\n",
       "      <td>NaN</td>\n",
       "      <td>S</td>\n",
       "      <td>7.2500</td>\n",
       "      <td>Braund, Mr. Owen Harris</td>\n",
       "      <td>0</td>\n",
       "      <td>1</td>\n",
       "      <td>3</td>\n",
       "      <td>male</td>\n",
       "      <td>1</td>\n",
       "      <td>0.0</td>\n",
       "      <td>A/5 21171</td>\n",
       "      <td>Braund</td>\n",
       "      <td>Braund-3-7.25-S-A/5 211__</td>\n",
       "      <td>man</td>\n",
       "    </tr>\n",
       "    <tr>\n",
       "      <th>1</th>\n",
       "      <td>38.0</td>\n",
       "      <td>C85</td>\n",
       "      <td>C</td>\n",
       "      <td>71.2833</td>\n",
       "      <td>Cumings, Mrs. John Bradley (Florence Briggs Th...</td>\n",
       "      <td>0</td>\n",
       "      <td>2</td>\n",
       "      <td>1</td>\n",
       "      <td>female</td>\n",
       "      <td>1</td>\n",
       "      <td>1.0</td>\n",
       "      <td>PC 17599</td>\n",
       "      <td>Cumings</td>\n",
       "      <td>Cumings-1-71.2833-C-PC 175__</td>\n",
       "      <td>woman</td>\n",
       "    </tr>\n",
       "    <tr>\n",
       "      <th>2</th>\n",
       "      <td>26.0</td>\n",
       "      <td>NaN</td>\n",
       "      <td>S</td>\n",
       "      <td>7.9250</td>\n",
       "      <td>Heikkinen, Miss. Laina</td>\n",
       "      <td>0</td>\n",
       "      <td>3</td>\n",
       "      <td>3</td>\n",
       "      <td>female</td>\n",
       "      <td>0</td>\n",
       "      <td>1.0</td>\n",
       "      <td>STON/O2. 3101282</td>\n",
       "      <td>Heikkinen</td>\n",
       "      <td>Heikkinen-3-7.925-S-STON/O2. 31012__</td>\n",
       "      <td>woman</td>\n",
       "    </tr>\n",
       "    <tr>\n",
       "      <th>3</th>\n",
       "      <td>35.0</td>\n",
       "      <td>C123</td>\n",
       "      <td>S</td>\n",
       "      <td>53.1000</td>\n",
       "      <td>Futrelle, Mrs. Jacques Heath (Lily May Peel)</td>\n",
       "      <td>0</td>\n",
       "      <td>4</td>\n",
       "      <td>1</td>\n",
       "      <td>female</td>\n",
       "      <td>1</td>\n",
       "      <td>1.0</td>\n",
       "      <td>113803</td>\n",
       "      <td>Futrelle</td>\n",
       "      <td>Futrelle-1-53.1-S-1138__</td>\n",
       "      <td>woman</td>\n",
       "    </tr>\n",
       "    <tr>\n",
       "      <th>4</th>\n",
       "      <td>35.0</td>\n",
       "      <td>NaN</td>\n",
       "      <td>S</td>\n",
       "      <td>8.0500</td>\n",
       "      <td>Allen, Mr. William Henry</td>\n",
       "      <td>0</td>\n",
       "      <td>5</td>\n",
       "      <td>3</td>\n",
       "      <td>male</td>\n",
       "      <td>0</td>\n",
       "      <td>0.0</td>\n",
       "      <td>373450</td>\n",
       "      <td>Allen</td>\n",
       "      <td>Allen-3-8.05-S-3734__</td>\n",
       "      <td>man</td>\n",
       "    </tr>\n",
       "  </tbody>\n",
       "</table>\n",
       "</div>"
      ],
      "text/plain": [
       "    Age Cabin Embarked     Fare  \\\n",
       "0  22.0   NaN        S   7.2500   \n",
       "1  38.0   C85        C  71.2833   \n",
       "2  26.0   NaN        S   7.9250   \n",
       "3  35.0  C123        S  53.1000   \n",
       "4  35.0   NaN        S   8.0500   \n",
       "\n",
       "                                                Name  Parch  PassengerId  \\\n",
       "0                            Braund, Mr. Owen Harris      0            1   \n",
       "1  Cumings, Mrs. John Bradley (Florence Briggs Th...      0            2   \n",
       "2                             Heikkinen, Miss. Laina      0            3   \n",
       "3       Futrelle, Mrs. Jacques Heath (Lily May Peel)      0            4   \n",
       "4                           Allen, Mr. William Henry      0            5   \n",
       "\n",
       "   Pclass     Sex  SibSp  Survived            Ticket    Surname  \\\n",
       "0       3    male      1       0.0         A/5 21171     Braund   \n",
       "1       1  female      1       1.0          PC 17599    Cumings   \n",
       "2       3  female      0       1.0  STON/O2. 3101282  Heikkinen   \n",
       "3       1  female      1       1.0            113803   Futrelle   \n",
       "4       3    male      0       0.0            373450      Allen   \n",
       "\n",
       "                         SurnameGroupId  Title  \n",
       "0             Braund-3-7.25-S-A/5 211__    man  \n",
       "1          Cumings-1-71.2833-C-PC 175__  woman  \n",
       "2  Heikkinen-3-7.925-S-STON/O2. 31012__  woman  \n",
       "3              Futrelle-1-53.1-S-1138__  woman  \n",
       "4                 Allen-3-8.05-S-3734__    man  "
      ]
     },
     "execution_count": 56,
     "metadata": {},
     "output_type": "execute_result"
    }
   ],
   "source": [
    "getTitleFeature(all_data)\n",
    "all_data.head()"
   ]
  },
  {
   "cell_type": "code",
   "execution_count": 57,
   "metadata": {},
   "outputs": [
    {
     "data": {
      "text/plain": [
       "(466, 62, 781)"
      ]
     },
     "execution_count": 57,
     "metadata": {},
     "output_type": "execute_result"
    }
   ],
   "source": [
    "np.sum(all_data.Title == 'woman'), np.sum(all_data.Title == 'boy'), np.sum(all_data.Title == 'man')"
   ]
  },
  {
   "cell_type": "markdown",
   "metadata": {},
   "source": [
    "## Don't group men"
   ]
  },
  {
   "cell_type": "markdown",
   "metadata": {},
   "source": [
    "**重点**：男人不进行分组"
   ]
  },
  {
   "cell_type": "code",
   "execution_count": 58,
   "metadata": {},
   "outputs": [],
   "source": [
    "men = all_data.loc[all_data.Title == 'man']\n",
    "all_data.loc[all_data.Title == 'man', 'SurnameGroupId'] = 'nogroup'"
   ]
  },
  {
   "cell_type": "markdown",
   "metadata": {},
   "source": [
    "## SurnameGroupSize"
   ]
  },
  {
   "cell_type": "code",
   "execution_count": 59,
   "metadata": {},
   "outputs": [
    {
     "data": {
      "text/html": [
       "<div>\n",
       "<style scoped>\n",
       "    .dataframe tbody tr th:only-of-type {\n",
       "        vertical-align: middle;\n",
       "    }\n",
       "\n",
       "    .dataframe tbody tr th {\n",
       "        vertical-align: top;\n",
       "    }\n",
       "\n",
       "    .dataframe thead th {\n",
       "        text-align: right;\n",
       "    }\n",
       "</style>\n",
       "<table border=\"1\" class=\"dataframe\">\n",
       "  <thead>\n",
       "    <tr style=\"text-align: right;\">\n",
       "      <th></th>\n",
       "      <th>Age</th>\n",
       "      <th>Cabin</th>\n",
       "      <th>Embarked</th>\n",
       "      <th>Fare</th>\n",
       "      <th>PassengerId</th>\n",
       "      <th>Pclass</th>\n",
       "      <th>Sex</th>\n",
       "      <th>Ticket</th>\n",
       "      <th>Surname</th>\n",
       "      <th>SurnameGroupId</th>\n",
       "      <th>Title</th>\n",
       "      <th>SurnameGroupSize</th>\n",
       "    </tr>\n",
       "  </thead>\n",
       "  <tbody>\n",
       "    <tr>\n",
       "      <th>0</th>\n",
       "      <td>22.0</td>\n",
       "      <td>NaN</td>\n",
       "      <td>S</td>\n",
       "      <td>7.2500</td>\n",
       "      <td>1</td>\n",
       "      <td>3</td>\n",
       "      <td>male</td>\n",
       "      <td>A/5 21171</td>\n",
       "      <td>Braund</td>\n",
       "      <td>nogroup</td>\n",
       "      <td>man</td>\n",
       "      <td>781</td>\n",
       "    </tr>\n",
       "    <tr>\n",
       "      <th>1</th>\n",
       "      <td>38.0</td>\n",
       "      <td>C85</td>\n",
       "      <td>C</td>\n",
       "      <td>71.2833</td>\n",
       "      <td>2</td>\n",
       "      <td>1</td>\n",
       "      <td>female</td>\n",
       "      <td>PC 17599</td>\n",
       "      <td>Cumings</td>\n",
       "      <td>Cumings-1-71.2833-C-PC 175__</td>\n",
       "      <td>woman</td>\n",
       "      <td>1</td>\n",
       "    </tr>\n",
       "    <tr>\n",
       "      <th>2</th>\n",
       "      <td>26.0</td>\n",
       "      <td>NaN</td>\n",
       "      <td>S</td>\n",
       "      <td>7.9250</td>\n",
       "      <td>3</td>\n",
       "      <td>3</td>\n",
       "      <td>female</td>\n",
       "      <td>STON/O2. 3101282</td>\n",
       "      <td>Heikkinen</td>\n",
       "      <td>Heikkinen-3-7.925-S-STON/O2. 31012__</td>\n",
       "      <td>woman</td>\n",
       "      <td>1</td>\n",
       "    </tr>\n",
       "    <tr>\n",
       "      <th>3</th>\n",
       "      <td>35.0</td>\n",
       "      <td>C123</td>\n",
       "      <td>S</td>\n",
       "      <td>53.1000</td>\n",
       "      <td>4</td>\n",
       "      <td>1</td>\n",
       "      <td>female</td>\n",
       "      <td>113803</td>\n",
       "      <td>Futrelle</td>\n",
       "      <td>Futrelle-1-53.1-S-1138__</td>\n",
       "      <td>woman</td>\n",
       "      <td>1</td>\n",
       "    </tr>\n",
       "    <tr>\n",
       "      <th>4</th>\n",
       "      <td>35.0</td>\n",
       "      <td>NaN</td>\n",
       "      <td>S</td>\n",
       "      <td>8.0500</td>\n",
       "      <td>5</td>\n",
       "      <td>3</td>\n",
       "      <td>male</td>\n",
       "      <td>373450</td>\n",
       "      <td>Allen</td>\n",
       "      <td>nogroup</td>\n",
       "      <td>man</td>\n",
       "      <td>781</td>\n",
       "    </tr>\n",
       "  </tbody>\n",
       "</table>\n",
       "</div>"
      ],
      "text/plain": [
       "    Age Cabin Embarked     Fare  PassengerId  Pclass     Sex  \\\n",
       "0  22.0   NaN        S   7.2500            1       3    male   \n",
       "1  38.0   C85        C  71.2833            2       1  female   \n",
       "2  26.0   NaN        S   7.9250            3       3  female   \n",
       "3  35.0  C123        S  53.1000            4       1  female   \n",
       "4  35.0   NaN        S   8.0500            5       3    male   \n",
       "\n",
       "             Ticket    Surname                        SurnameGroupId  Title  \\\n",
       "0         A/5 21171     Braund                               nogroup    man   \n",
       "1          PC 17599    Cumings          Cumings-1-71.2833-C-PC 175__  woman   \n",
       "2  STON/O2. 3101282  Heikkinen  Heikkinen-3-7.925-S-STON/O2. 31012__  woman   \n",
       "3            113803   Futrelle              Futrelle-1-53.1-S-1138__  woman   \n",
       "4            373450      Allen                               nogroup    man   \n",
       "\n",
       "   SurnameGroupSize  \n",
       "0               781  \n",
       "1                 1  \n",
       "2                 1  \n",
       "3                 1  \n",
       "4               781  "
      ]
     },
     "execution_count": 59,
     "metadata": {},
     "output_type": "execute_result"
    }
   ],
   "source": [
    "getSurnameGroupSize(all_data)\n",
    "all_data.drop(['SibSp', 'Parch', 'Survived', 'Name'], axis = 1).head()"
   ]
  },
  {
   "cell_type": "markdown",
   "metadata": {},
   "source": [
    "## Don't group solo passengers"
   ]
  },
  {
   "cell_type": "markdown",
   "metadata": {},
   "source": [
    "**重点：** 单独出行的人不进行分组"
   ]
  },
  {
   "cell_type": "code",
   "execution_count": 60,
   "metadata": {},
   "outputs": [
    {
     "data": {
      "text/html": [
       "<div>\n",
       "<style scoped>\n",
       "    .dataframe tbody tr th:only-of-type {\n",
       "        vertical-align: middle;\n",
       "    }\n",
       "\n",
       "    .dataframe tbody tr th {\n",
       "        vertical-align: top;\n",
       "    }\n",
       "\n",
       "    .dataframe thead th {\n",
       "        text-align: right;\n",
       "    }\n",
       "</style>\n",
       "<table border=\"1\" class=\"dataframe\">\n",
       "  <thead>\n",
       "    <tr style=\"text-align: right;\">\n",
       "      <th></th>\n",
       "      <th>Age</th>\n",
       "      <th>Cabin</th>\n",
       "      <th>Embarked</th>\n",
       "      <th>Fare</th>\n",
       "      <th>Name</th>\n",
       "      <th>Parch</th>\n",
       "      <th>PassengerId</th>\n",
       "      <th>Pclass</th>\n",
       "      <th>Sex</th>\n",
       "      <th>SibSp</th>\n",
       "      <th>Survived</th>\n",
       "      <th>Ticket</th>\n",
       "      <th>Surname</th>\n",
       "      <th>SurnameGroupId</th>\n",
       "      <th>Title</th>\n",
       "      <th>SurnameGroupSize</th>\n",
       "    </tr>\n",
       "  </thead>\n",
       "  <tbody>\n",
       "    <tr>\n",
       "      <th>0</th>\n",
       "      <td>22.0</td>\n",
       "      <td>NaN</td>\n",
       "      <td>S</td>\n",
       "      <td>7.2500</td>\n",
       "      <td>Braund, Mr. Owen Harris</td>\n",
       "      <td>0</td>\n",
       "      <td>1</td>\n",
       "      <td>3</td>\n",
       "      <td>male</td>\n",
       "      <td>1</td>\n",
       "      <td>0.0</td>\n",
       "      <td>A/5 21171</td>\n",
       "      <td>Braund</td>\n",
       "      <td>nogroup</td>\n",
       "      <td>man</td>\n",
       "      <td>781</td>\n",
       "    </tr>\n",
       "    <tr>\n",
       "      <th>1</th>\n",
       "      <td>38.0</td>\n",
       "      <td>C85</td>\n",
       "      <td>C</td>\n",
       "      <td>71.2833</td>\n",
       "      <td>Cumings, Mrs. John Bradley (Florence Briggs Th...</td>\n",
       "      <td>0</td>\n",
       "      <td>2</td>\n",
       "      <td>1</td>\n",
       "      <td>female</td>\n",
       "      <td>1</td>\n",
       "      <td>1.0</td>\n",
       "      <td>PC 17599</td>\n",
       "      <td>Cumings</td>\n",
       "      <td>nogroup</td>\n",
       "      <td>woman</td>\n",
       "      <td>1</td>\n",
       "    </tr>\n",
       "    <tr>\n",
       "      <th>2</th>\n",
       "      <td>26.0</td>\n",
       "      <td>NaN</td>\n",
       "      <td>S</td>\n",
       "      <td>7.9250</td>\n",
       "      <td>Heikkinen, Miss. Laina</td>\n",
       "      <td>0</td>\n",
       "      <td>3</td>\n",
       "      <td>3</td>\n",
       "      <td>female</td>\n",
       "      <td>0</td>\n",
       "      <td>1.0</td>\n",
       "      <td>STON/O2. 3101282</td>\n",
       "      <td>Heikkinen</td>\n",
       "      <td>nogroup</td>\n",
       "      <td>woman</td>\n",
       "      <td>1</td>\n",
       "    </tr>\n",
       "    <tr>\n",
       "      <th>3</th>\n",
       "      <td>35.0</td>\n",
       "      <td>C123</td>\n",
       "      <td>S</td>\n",
       "      <td>53.1000</td>\n",
       "      <td>Futrelle, Mrs. Jacques Heath (Lily May Peel)</td>\n",
       "      <td>0</td>\n",
       "      <td>4</td>\n",
       "      <td>1</td>\n",
       "      <td>female</td>\n",
       "      <td>1</td>\n",
       "      <td>1.0</td>\n",
       "      <td>113803</td>\n",
       "      <td>Futrelle</td>\n",
       "      <td>nogroup</td>\n",
       "      <td>woman</td>\n",
       "      <td>1</td>\n",
       "    </tr>\n",
       "    <tr>\n",
       "      <th>4</th>\n",
       "      <td>35.0</td>\n",
       "      <td>NaN</td>\n",
       "      <td>S</td>\n",
       "      <td>8.0500</td>\n",
       "      <td>Allen, Mr. William Henry</td>\n",
       "      <td>0</td>\n",
       "      <td>5</td>\n",
       "      <td>3</td>\n",
       "      <td>male</td>\n",
       "      <td>0</td>\n",
       "      <td>0.0</td>\n",
       "      <td>373450</td>\n",
       "      <td>Allen</td>\n",
       "      <td>nogroup</td>\n",
       "      <td>man</td>\n",
       "      <td>781</td>\n",
       "    </tr>\n",
       "  </tbody>\n",
       "</table>\n",
       "</div>"
      ],
      "text/plain": [
       "    Age Cabin Embarked     Fare  \\\n",
       "0  22.0   NaN        S   7.2500   \n",
       "1  38.0   C85        C  71.2833   \n",
       "2  26.0   NaN        S   7.9250   \n",
       "3  35.0  C123        S  53.1000   \n",
       "4  35.0   NaN        S   8.0500   \n",
       "\n",
       "                                                Name  Parch  PassengerId  \\\n",
       "0                            Braund, Mr. Owen Harris      0            1   \n",
       "1  Cumings, Mrs. John Bradley (Florence Briggs Th...      0            2   \n",
       "2                             Heikkinen, Miss. Laina      0            3   \n",
       "3       Futrelle, Mrs. Jacques Heath (Lily May Peel)      0            4   \n",
       "4                           Allen, Mr. William Henry      0            5   \n",
       "\n",
       "   Pclass     Sex  SibSp  Survived            Ticket    Surname  \\\n",
       "0       3    male      1       0.0         A/5 21171     Braund   \n",
       "1       1  female      1       1.0          PC 17599    Cumings   \n",
       "2       3  female      0       1.0  STON/O2. 3101282  Heikkinen   \n",
       "3       1  female      1       1.0            113803   Futrelle   \n",
       "4       3    male      0       0.0            373450      Allen   \n",
       "\n",
       "  SurnameGroupId  Title  SurnameGroupSize  \n",
       "0        nogroup    man               781  \n",
       "1        nogroup  woman                 1  \n",
       "2        nogroup  woman                 1  \n",
       "3        nogroup  woman                 1  \n",
       "4        nogroup    man               781  "
      ]
     },
     "execution_count": 60,
     "metadata": {},
     "output_type": "execute_result"
    }
   ],
   "source": [
    "all_data.loc[all_data.SurnameGroupSize == 1, 'SurnameGroupId'] = 'nogroup'\n",
    "all_data.head()"
   ]
  },
  {
   "cell_type": "code",
   "execution_count": 61,
   "metadata": {},
   "outputs": [
    {
     "data": {
      "text/plain": [
       "(307, 16)"
      ]
     },
     "execution_count": 61,
     "metadata": {},
     "output_type": "execute_result"
    }
   ],
   "source": [
    "all_data.loc[all_data.SurnameGroupSize == 1].shape"
   ]
  },
  {
   "cell_type": "markdown",
   "metadata": {},
   "source": [
    "## TicketGroupId"
   ]
  },
  {
   "cell_type": "code",
   "execution_count": 62,
   "metadata": {},
   "outputs": [
    {
     "data": {
      "text/html": [
       "<div>\n",
       "<style scoped>\n",
       "    .dataframe tbody tr th:only-of-type {\n",
       "        vertical-align: middle;\n",
       "    }\n",
       "\n",
       "    .dataframe tbody tr th {\n",
       "        vertical-align: top;\n",
       "    }\n",
       "\n",
       "    .dataframe thead th {\n",
       "        text-align: right;\n",
       "    }\n",
       "</style>\n",
       "<table border=\"1\" class=\"dataframe\">\n",
       "  <thead>\n",
       "    <tr style=\"text-align: right;\">\n",
       "      <th></th>\n",
       "      <th>Age</th>\n",
       "      <th>Cabin</th>\n",
       "      <th>Embarked</th>\n",
       "      <th>Fare</th>\n",
       "      <th>PassengerId</th>\n",
       "      <th>Pclass</th>\n",
       "      <th>Sex</th>\n",
       "      <th>Ticket</th>\n",
       "      <th>Surname</th>\n",
       "      <th>SurnameGroupId</th>\n",
       "      <th>Title</th>\n",
       "      <th>SurnameGroupSize</th>\n",
       "      <th>TicketGroupId</th>\n",
       "    </tr>\n",
       "  </thead>\n",
       "  <tbody>\n",
       "    <tr>\n",
       "      <th>0</th>\n",
       "      <td>22.0</td>\n",
       "      <td>NaN</td>\n",
       "      <td>S</td>\n",
       "      <td>7.2500</td>\n",
       "      <td>1</td>\n",
       "      <td>3</td>\n",
       "      <td>male</td>\n",
       "      <td>A/5 21171</td>\n",
       "      <td>Braund</td>\n",
       "      <td>nogroup</td>\n",
       "      <td>man</td>\n",
       "      <td>781</td>\n",
       "      <td>3-S-7.25-A/5 2117_</td>\n",
       "    </tr>\n",
       "    <tr>\n",
       "      <th>1</th>\n",
       "      <td>38.0</td>\n",
       "      <td>C85</td>\n",
       "      <td>C</td>\n",
       "      <td>71.2833</td>\n",
       "      <td>2</td>\n",
       "      <td>1</td>\n",
       "      <td>female</td>\n",
       "      <td>PC 17599</td>\n",
       "      <td>Cumings</td>\n",
       "      <td>nogroup</td>\n",
       "      <td>woman</td>\n",
       "      <td>1</td>\n",
       "      <td>1-C-71.2833-PC 1759_</td>\n",
       "    </tr>\n",
       "    <tr>\n",
       "      <th>2</th>\n",
       "      <td>26.0</td>\n",
       "      <td>NaN</td>\n",
       "      <td>S</td>\n",
       "      <td>7.9250</td>\n",
       "      <td>3</td>\n",
       "      <td>3</td>\n",
       "      <td>female</td>\n",
       "      <td>STON/O2. 3101282</td>\n",
       "      <td>Heikkinen</td>\n",
       "      <td>nogroup</td>\n",
       "      <td>woman</td>\n",
       "      <td>1</td>\n",
       "      <td>3-S-7.925-STON/O2. 310128_</td>\n",
       "    </tr>\n",
       "    <tr>\n",
       "      <th>3</th>\n",
       "      <td>35.0</td>\n",
       "      <td>C123</td>\n",
       "      <td>S</td>\n",
       "      <td>53.1000</td>\n",
       "      <td>4</td>\n",
       "      <td>1</td>\n",
       "      <td>female</td>\n",
       "      <td>113803</td>\n",
       "      <td>Futrelle</td>\n",
       "      <td>nogroup</td>\n",
       "      <td>woman</td>\n",
       "      <td>1</td>\n",
       "      <td>1-S-53.1-11380_</td>\n",
       "    </tr>\n",
       "    <tr>\n",
       "      <th>4</th>\n",
       "      <td>35.0</td>\n",
       "      <td>NaN</td>\n",
       "      <td>S</td>\n",
       "      <td>8.0500</td>\n",
       "      <td>5</td>\n",
       "      <td>3</td>\n",
       "      <td>male</td>\n",
       "      <td>373450</td>\n",
       "      <td>Allen</td>\n",
       "      <td>nogroup</td>\n",
       "      <td>man</td>\n",
       "      <td>781</td>\n",
       "      <td>3-S-8.05-37345_</td>\n",
       "    </tr>\n",
       "  </tbody>\n",
       "</table>\n",
       "</div>"
      ],
      "text/plain": [
       "    Age Cabin Embarked     Fare  PassengerId  Pclass     Sex  \\\n",
       "0  22.0   NaN        S   7.2500            1       3    male   \n",
       "1  38.0   C85        C  71.2833            2       1  female   \n",
       "2  26.0   NaN        S   7.9250            3       3  female   \n",
       "3  35.0  C123        S  53.1000            4       1  female   \n",
       "4  35.0   NaN        S   8.0500            5       3    male   \n",
       "\n",
       "             Ticket    Surname SurnameGroupId  Title  SurnameGroupSize  \\\n",
       "0         A/5 21171     Braund        nogroup    man               781   \n",
       "1          PC 17599    Cumings        nogroup  woman                 1   \n",
       "2  STON/O2. 3101282  Heikkinen        nogroup  woman                 1   \n",
       "3            113803   Futrelle        nogroup  woman                 1   \n",
       "4            373450      Allen        nogroup    man               781   \n",
       "\n",
       "                TicketGroupId  \n",
       "0          3-S-7.25-A/5 2117_  \n",
       "1        1-C-71.2833-PC 1759_  \n",
       "2  3-S-7.925-STON/O2. 310128_  \n",
       "3             1-S-53.1-11380_  \n",
       "4             3-S-8.05-37345_  "
      ]
     },
     "execution_count": 62,
     "metadata": {},
     "output_type": "execute_result"
    }
   ],
   "source": [
    "getTicketGroupId(all_data)\n",
    "                                           \n",
    "all_data.drop(['SibSp', 'Parch', 'Survived', 'Name'], axis = 1).head()                   "
   ]
  },
  {
   "cell_type": "markdown",
   "metadata": {},
   "source": [
    "## add nannies friends and cousins"
   ]
  },
  {
   "cell_type": "code",
   "execution_count": 63,
   "metadata": {},
   "outputs": [
    {
     "name": "stdout",
     "output_type": "stream",
     "text": [
      "Spedden-1-134.5-C-169__\n",
      "Allison-1-151.55-S-1137__\n",
      "Ryerson-1-262.375-C-PC 176__\n",
      "Allison-1-151.55-S-1137__\n",
      "Zabour-3-14.4542-C-26__\n",
      "Panula-3-39.6875-S-31012__\n",
      "Spedden-1-134.5-C-169__\n",
      "Ryerson-1-262.375-C-PC 176__\n",
      "Wick-1-164.8667-S-369__\n",
      "Tootally adding 9 nannies, cousins and friends\n"
     ]
    }
   ],
   "source": [
    "addNanniesCousinsFriends(all_data, verbose = True)"
   ]
  },
  {
   "cell_type": "markdown",
   "metadata": {},
   "source": [
    "## resize SurnameGroupSize"
   ]
  },
  {
   "cell_type": "code",
   "execution_count": 64,
   "metadata": {},
   "outputs": [],
   "source": [
    "getSurnameGroupSize(all_data)"
   ]
  },
  {
   "cell_type": "markdown",
   "metadata": {},
   "source": [
    "## men in women-children groups"
   ]
  },
  {
   "cell_type": "code",
   "execution_count": 65,
   "metadata": {},
   "outputs": [
    {
     "name": "stdout",
     "output_type": "stream",
     "text": [
      "There were 1079 passengers outside the groups of women-children\n"
     ]
    }
   ],
   "source": [
    "print(\"There were %d passengers outside the groups of women-children\" % all_data.loc[all_data.SurnameGroupId == 'nogroup'].shape[0])"
   ]
  },
  {
   "cell_type": "code",
   "execution_count": 66,
   "metadata": {},
   "outputs": [
    {
     "name": "stdout",
     "output_type": "stream",
     "text": [
      "There were 81 groups of women-children\n"
     ]
    }
   ],
   "source": [
    "print(\"There were %d groups of women-children\" % all_data.loc[all_data.SurnameGroupId != 'nogroup'].SurnameGroupId.unique().shape[0])"
   ]
  },
  {
   "cell_type": "code",
   "execution_count": 67,
   "metadata": {},
   "outputs": [
    {
     "name": "stdout",
     "output_type": "stream",
     "text": [
      "There were 51 mens in women-children groups\n"
     ]
    }
   ],
   "source": [
    "count_man_in_wcg = 0\n",
    "men_in_wcg = []\n",
    "for surname_group_id in men.SurnameGroupId:\n",
    "    if all_data.loc[all_data.SurnameGroupId == surname_group_id].shape[0] > 0:\n",
    "        count_man_in_wcg += 1\n",
    "        men_in_wcg.append(surname_group_id)\n",
    "print(\"There were %d mens in women-children groups\" % count_man_in_wcg)"
   ]
  },
  {
   "cell_type": "code",
   "execution_count": 68,
   "metadata": {},
   "outputs": [
    {
     "data": {
      "text/html": [
       "<div>\n",
       "<style scoped>\n",
       "    .dataframe tbody tr th:only-of-type {\n",
       "        vertical-align: middle;\n",
       "    }\n",
       "\n",
       "    .dataframe tbody tr th {\n",
       "        vertical-align: top;\n",
       "    }\n",
       "\n",
       "    .dataframe thead th {\n",
       "        text-align: right;\n",
       "    }\n",
       "</style>\n",
       "<table border=\"1\" class=\"dataframe\">\n",
       "  <thead>\n",
       "    <tr style=\"text-align: right;\">\n",
       "      <th></th>\n",
       "      <th>Age</th>\n",
       "      <th>Cabin</th>\n",
       "      <th>Embarked</th>\n",
       "      <th>Fare</th>\n",
       "      <th>Name</th>\n",
       "      <th>Parch</th>\n",
       "      <th>PassengerId</th>\n",
       "      <th>Pclass</th>\n",
       "      <th>Sex</th>\n",
       "      <th>SibSp</th>\n",
       "      <th>Survived</th>\n",
       "      <th>Ticket</th>\n",
       "      <th>Surname</th>\n",
       "      <th>SurnameGroupId</th>\n",
       "      <th>Title</th>\n",
       "    </tr>\n",
       "  </thead>\n",
       "  <tbody>\n",
       "    <tr>\n",
       "      <th>301</th>\n",
       "      <td>NaN</td>\n",
       "      <td>NaN</td>\n",
       "      <td>Q</td>\n",
       "      <td>23.2500</td>\n",
       "      <td>McCoy, Mr. Bernard</td>\n",
       "      <td>0</td>\n",
       "      <td>302</td>\n",
       "      <td>3</td>\n",
       "      <td>male</td>\n",
       "      <td>2</td>\n",
       "      <td>1.0</td>\n",
       "      <td>367226</td>\n",
       "      <td>McCoy</td>\n",
       "      <td>McCoy-3-23.25-Q-3672__</td>\n",
       "      <td>man</td>\n",
       "    </tr>\n",
       "    <tr>\n",
       "      <th>390</th>\n",
       "      <td>36.0</td>\n",
       "      <td>B96 B98</td>\n",
       "      <td>S</td>\n",
       "      <td>120.0000</td>\n",
       "      <td>Carter, Mr. William Ernest</td>\n",
       "      <td>2</td>\n",
       "      <td>391</td>\n",
       "      <td>1</td>\n",
       "      <td>male</td>\n",
       "      <td>1</td>\n",
       "      <td>1.0</td>\n",
       "      <td>113760</td>\n",
       "      <td>Carter</td>\n",
       "      <td>Carter-1-120.0-S-1137__</td>\n",
       "      <td>man</td>\n",
       "    </tr>\n",
       "    <tr>\n",
       "      <th>622</th>\n",
       "      <td>20.0</td>\n",
       "      <td>NaN</td>\n",
       "      <td>C</td>\n",
       "      <td>15.7417</td>\n",
       "      <td>Nakid, Mr. Sahid</td>\n",
       "      <td>1</td>\n",
       "      <td>623</td>\n",
       "      <td>3</td>\n",
       "      <td>male</td>\n",
       "      <td>1</td>\n",
       "      <td>1.0</td>\n",
       "      <td>2653</td>\n",
       "      <td>Nakid</td>\n",
       "      <td>Nakid-3-15.7417-C-26__</td>\n",
       "      <td>man</td>\n",
       "    </tr>\n",
       "  </tbody>\n",
       "</table>\n",
       "</div>"
      ],
      "text/plain": [
       "      Age    Cabin Embarked      Fare                        Name  Parch  \\\n",
       "301   NaN      NaN        Q   23.2500          McCoy, Mr. Bernard      0   \n",
       "390  36.0  B96 B98        S  120.0000  Carter, Mr. William Ernest      2   \n",
       "622  20.0      NaN        C   15.7417            Nakid, Mr. Sahid      1   \n",
       "\n",
       "     PassengerId  Pclass   Sex  SibSp  Survived  Ticket Surname  \\\n",
       "301          302       3  male      2       1.0  367226   McCoy   \n",
       "390          391       1  male      1       1.0  113760  Carter   \n",
       "622          623       3  male      1       1.0    2653   Nakid   \n",
       "\n",
       "              SurnameGroupId Title  \n",
       "301   McCoy-3-23.25-Q-3672__   man  \n",
       "390  Carter-1-120.0-S-1137__   man  \n",
       "622   Nakid-3-15.7417-C-26__   man  "
      ]
     },
     "execution_count": 68,
     "metadata": {},
     "output_type": "execute_result"
    }
   ],
   "source": [
    "survived_men_wcg = men.loc[men.SurnameGroupId.isin(men_in_wcg) & (men.Survived == 1)]\n",
    "survived_men_wcg"
   ]
  },
  {
   "cell_type": "code",
   "execution_count": 69,
   "metadata": {},
   "outputs": [
    {
     "data": {
      "text/plain": [
       "1.0    3\n",
       "Name: Survived, dtype: int64"
      ]
     },
     "execution_count": 69,
     "metadata": {},
     "output_type": "execute_result"
    }
   ],
   "source": [
    "tmp = all_data.loc[all_data.SurnameGroupId.isin(survived_men_wcg.SurnameGroupId)].groupby(['SurnameGroupId']).Survived.mean().value_counts()\n",
    "tmp "
   ]
  },
  {
   "cell_type": "code",
   "execution_count": 70,
   "metadata": {},
   "outputs": [
    {
     "data": {
      "text/html": [
       "<div>\n",
       "<style scoped>\n",
       "    .dataframe tbody tr th:only-of-type {\n",
       "        vertical-align: middle;\n",
       "    }\n",
       "\n",
       "    .dataframe tbody tr th {\n",
       "        vertical-align: top;\n",
       "    }\n",
       "\n",
       "    .dataframe thead th {\n",
       "        text-align: right;\n",
       "    }\n",
       "</style>\n",
       "<table border=\"1\" class=\"dataframe\">\n",
       "  <thead>\n",
       "    <tr style=\"text-align: right;\">\n",
       "      <th></th>\n",
       "      <th>Age</th>\n",
       "      <th>Cabin</th>\n",
       "      <th>Embarked</th>\n",
       "      <th>Fare</th>\n",
       "      <th>Name</th>\n",
       "      <th>Parch</th>\n",
       "      <th>PassengerId</th>\n",
       "      <th>Pclass</th>\n",
       "      <th>Sex</th>\n",
       "      <th>SibSp</th>\n",
       "      <th>Survived</th>\n",
       "      <th>Ticket</th>\n",
       "      <th>Surname</th>\n",
       "      <th>SurnameGroupId</th>\n",
       "      <th>Title</th>\n",
       "    </tr>\n",
       "  </thead>\n",
       "  <tbody>\n",
       "    <tr>\n",
       "      <th>13</th>\n",
       "      <td>39.0</td>\n",
       "      <td>NaN</td>\n",
       "      <td>S</td>\n",
       "      <td>31.275</td>\n",
       "      <td>Andersson, Mr. Anders Johan</td>\n",
       "      <td>5</td>\n",
       "      <td>14</td>\n",
       "      <td>3</td>\n",
       "      <td>male</td>\n",
       "      <td>1</td>\n",
       "      <td>0.0</td>\n",
       "      <td>347082</td>\n",
       "      <td>Andersson</td>\n",
       "      <td>Andersson-3-31.275-S-3470__</td>\n",
       "      <td>man</td>\n",
       "    </tr>\n",
       "    <tr>\n",
       "      <th>27</th>\n",
       "      <td>19.0</td>\n",
       "      <td>C23 C25 C27</td>\n",
       "      <td>S</td>\n",
       "      <td>263.000</td>\n",
       "      <td>Fortune, Mr. Charles Alexander</td>\n",
       "      <td>2</td>\n",
       "      <td>28</td>\n",
       "      <td>1</td>\n",
       "      <td>male</td>\n",
       "      <td>3</td>\n",
       "      <td>0.0</td>\n",
       "      <td>19950</td>\n",
       "      <td>Fortune</td>\n",
       "      <td>Fortune-1-263.0-S-199__</td>\n",
       "      <td>man</td>\n",
       "    </tr>\n",
       "    <tr>\n",
       "      <th>86</th>\n",
       "      <td>16.0</td>\n",
       "      <td>NaN</td>\n",
       "      <td>S</td>\n",
       "      <td>34.375</td>\n",
       "      <td>Ford, Mr. William Neal</td>\n",
       "      <td>3</td>\n",
       "      <td>87</td>\n",
       "      <td>3</td>\n",
       "      <td>male</td>\n",
       "      <td>1</td>\n",
       "      <td>0.0</td>\n",
       "      <td>W./C. 6608</td>\n",
       "      <td>Ford</td>\n",
       "      <td>Ford-3-34.375-S-W./C. 66__</td>\n",
       "      <td>man</td>\n",
       "    </tr>\n",
       "    <tr>\n",
       "      <th>93</th>\n",
       "      <td>26.0</td>\n",
       "      <td>NaN</td>\n",
       "      <td>S</td>\n",
       "      <td>20.575</td>\n",
       "      <td>Dean, Mr. Bertram Frank</td>\n",
       "      <td>2</td>\n",
       "      <td>94</td>\n",
       "      <td>3</td>\n",
       "      <td>male</td>\n",
       "      <td>1</td>\n",
       "      <td>0.0</td>\n",
       "      <td>C.A. 2315</td>\n",
       "      <td>Dean</td>\n",
       "      <td>Dean-3-20.575-S-C.A. 23__</td>\n",
       "      <td>man</td>\n",
       "    </tr>\n",
       "    <tr>\n",
       "      <th>148</th>\n",
       "      <td>36.5</td>\n",
       "      <td>F2</td>\n",
       "      <td>S</td>\n",
       "      <td>26.000</td>\n",
       "      <td>Navratil, Mr. Michel (\"Louis M Hoffman\")</td>\n",
       "      <td>2</td>\n",
       "      <td>149</td>\n",
       "      <td>2</td>\n",
       "      <td>male</td>\n",
       "      <td>0</td>\n",
       "      <td>0.0</td>\n",
       "      <td>230080</td>\n",
       "      <td>Navratil</td>\n",
       "      <td>Navratil-2-26.0-S-2300__</td>\n",
       "      <td>man</td>\n",
       "    </tr>\n",
       "  </tbody>\n",
       "</table>\n",
       "</div>"
      ],
      "text/plain": [
       "      Age        Cabin Embarked     Fare  \\\n",
       "13   39.0          NaN        S   31.275   \n",
       "27   19.0  C23 C25 C27        S  263.000   \n",
       "86   16.0          NaN        S   34.375   \n",
       "93   26.0          NaN        S   20.575   \n",
       "148  36.5           F2        S   26.000   \n",
       "\n",
       "                                         Name  Parch  PassengerId  Pclass  \\\n",
       "13                Andersson, Mr. Anders Johan      5           14       3   \n",
       "27             Fortune, Mr. Charles Alexander      2           28       1   \n",
       "86                     Ford, Mr. William Neal      3           87       3   \n",
       "93                    Dean, Mr. Bertram Frank      2           94       3   \n",
       "148  Navratil, Mr. Michel (\"Louis M Hoffman\")      2          149       2   \n",
       "\n",
       "      Sex  SibSp  Survived      Ticket    Surname  \\\n",
       "13   male      1       0.0      347082  Andersson   \n",
       "27   male      3       0.0       19950    Fortune   \n",
       "86   male      1       0.0  W./C. 6608       Ford   \n",
       "93   male      1       0.0   C.A. 2315       Dean   \n",
       "148  male      0       0.0      230080   Navratil   \n",
       "\n",
       "                  SurnameGroupId Title  \n",
       "13   Andersson-3-31.275-S-3470__   man  \n",
       "27       Fortune-1-263.0-S-199__   man  \n",
       "86    Ford-3-34.375-S-W./C. 66__   man  \n",
       "93     Dean-3-20.575-S-C.A. 23__   man  \n",
       "148     Navratil-2-26.0-S-2300__   man  "
      ]
     },
     "execution_count": 70,
     "metadata": {},
     "output_type": "execute_result"
    }
   ],
   "source": [
    "perished_men_wcg = men.loc[men.SurnameGroupId.isin(men_in_wcg) & (men.Survived == 0)]\n",
    "perished_men_wcg.head()"
   ]
  },
  {
   "cell_type": "code",
   "execution_count": 71,
   "metadata": {
    "scrolled": true
   },
   "outputs": [
    {
     "data": {
      "text/plain": [
       "1.0    14\n",
       "0.0    13\n",
       "Name: Survived, dtype: int64"
      ]
     },
     "execution_count": 71,
     "metadata": {},
     "output_type": "execute_result"
    }
   ],
   "source": [
    "tmp = all_data.loc[all_data.SurnameGroupId.isin(perished_men_wcg.SurnameGroupId)].groupby(['SurnameGroupId']).Survived.mean().value_counts()\n",
    "tmp"
   ]
  },
  {
   "cell_type": "markdown",
   "metadata": {},
   "source": [
    "## all perished group"
   ]
  },
  {
   "cell_type": "code",
   "execution_count": 72,
   "metadata": {},
   "outputs": [],
   "source": [
    "groups = all_data.loc[all_data.SurnameGroupId != 'nogroup'].groupby(['SurnameGroupId'])\n",
    "\n",
    "all_perished_groups = pd.DataFrame()\n",
    "one_more_survived_groups = pd.DataFrame()\n",
    "\n",
    "for index, group in groups:\n",
    "    indices = group.Survived.value_counts().index\n",
    "    if indices.shape[0] == 0:\n",
    "        all_perished_groups = all_perished_groups.append(group)\n",
    "    else:\n",
    "        one_more_survived_groups = one_more_survived_groups.append(group)\n",
    "        \n",
    "groups = None"
   ]
  },
  {
   "cell_type": "code",
   "execution_count": 73,
   "metadata": {
    "scrolled": true
   },
   "outputs": [
    {
     "data": {
      "text/html": [
       "<div>\n",
       "<style scoped>\n",
       "    .dataframe tbody tr th:only-of-type {\n",
       "        vertical-align: middle;\n",
       "    }\n",
       "\n",
       "    .dataframe tbody tr th {\n",
       "        vertical-align: top;\n",
       "    }\n",
       "\n",
       "    .dataframe thead th {\n",
       "        text-align: right;\n",
       "    }\n",
       "</style>\n",
       "<table border=\"1\" class=\"dataframe\">\n",
       "  <thead>\n",
       "    <tr style=\"text-align: right;\">\n",
       "      <th></th>\n",
       "      <th>Sex</th>\n",
       "      <th>Survived</th>\n",
       "      <th>Surname</th>\n",
       "      <th>SurnameGroupId</th>\n",
       "      <th>Title</th>\n",
       "      <th>SurnameGroupSize</th>\n",
       "      <th>TicketGroupId</th>\n",
       "    </tr>\n",
       "  </thead>\n",
       "  <tbody>\n",
       "    <tr>\n",
       "      <th>1259</th>\n",
       "      <td>female</td>\n",
       "      <td>NaN</td>\n",
       "      <td>Gibson</td>\n",
       "      <td>Gibson-1-59.4-C-1123__</td>\n",
       "      <td>woman</td>\n",
       "      <td>2</td>\n",
       "      <td>1-C-59.4-11237_</td>\n",
       "    </tr>\n",
       "    <tr>\n",
       "      <th>1293</th>\n",
       "      <td>female</td>\n",
       "      <td>NaN</td>\n",
       "      <td>Gibson</td>\n",
       "      <td>Gibson-1-59.4-C-1123__</td>\n",
       "      <td>woman</td>\n",
       "      <td>2</td>\n",
       "      <td>1-C-59.4-11237_</td>\n",
       "    </tr>\n",
       "    <tr>\n",
       "      <th>1044</th>\n",
       "      <td>female</td>\n",
       "      <td>NaN</td>\n",
       "      <td>Klasen</td>\n",
       "      <td>Klasen-3-12.1833-S-3504__</td>\n",
       "      <td>woman</td>\n",
       "      <td>2</td>\n",
       "      <td>3-S-12.1833-35040_</td>\n",
       "    </tr>\n",
       "    <tr>\n",
       "      <th>1154</th>\n",
       "      <td>female</td>\n",
       "      <td>NaN</td>\n",
       "      <td>Klasen</td>\n",
       "      <td>Klasen-3-12.1833-S-3504__</td>\n",
       "      <td>woman</td>\n",
       "      <td>2</td>\n",
       "      <td>3-S-12.1833-35040_</td>\n",
       "    </tr>\n",
       "    <tr>\n",
       "      <th>1050</th>\n",
       "      <td>female</td>\n",
       "      <td>NaN</td>\n",
       "      <td>Peacock</td>\n",
       "      <td>Peacock-3-13.775-S-SOTON/O.Q. 31013__</td>\n",
       "      <td>woman</td>\n",
       "      <td>3</td>\n",
       "      <td>3-S-13.775-SOTON/O.Q. 310131_</td>\n",
       "    </tr>\n",
       "    <tr>\n",
       "      <th>1172</th>\n",
       "      <td>male</td>\n",
       "      <td>NaN</td>\n",
       "      <td>Peacock</td>\n",
       "      <td>Peacock-3-13.775-S-SOTON/O.Q. 31013__</td>\n",
       "      <td>boy</td>\n",
       "      <td>3</td>\n",
       "      <td>3-S-13.775-SOTON/O.Q. 310131_</td>\n",
       "    </tr>\n",
       "    <tr>\n",
       "      <th>1300</th>\n",
       "      <td>female</td>\n",
       "      <td>NaN</td>\n",
       "      <td>Peacock</td>\n",
       "      <td>Peacock-3-13.775-S-SOTON/O.Q. 31013__</td>\n",
       "      <td>woman</td>\n",
       "      <td>3</td>\n",
       "      <td>3-S-13.775-SOTON/O.Q. 310131_</td>\n",
       "    </tr>\n",
       "    <tr>\n",
       "      <th>1083</th>\n",
       "      <td>male</td>\n",
       "      <td>NaN</td>\n",
       "      <td>van Billiard</td>\n",
       "      <td>van Billiard-3-14.5-S-A/5. 8__</td>\n",
       "      <td>boy</td>\n",
       "      <td>2</td>\n",
       "      <td>3-S-14.5-A/5. 85_</td>\n",
       "    </tr>\n",
       "    <tr>\n",
       "      <th>1235</th>\n",
       "      <td>male</td>\n",
       "      <td>NaN</td>\n",
       "      <td>van Billiard</td>\n",
       "      <td>van Billiard-3-14.5-S-A/5. 8__</td>\n",
       "      <td>boy</td>\n",
       "      <td>2</td>\n",
       "      <td>3-S-14.5-A/5. 85_</td>\n",
       "    </tr>\n",
       "  </tbody>\n",
       "</table>\n",
       "</div>"
      ],
      "text/plain": [
       "         Sex  Survived       Surname                         SurnameGroupId  \\\n",
       "1259  female       NaN        Gibson                 Gibson-1-59.4-C-1123__   \n",
       "1293  female       NaN        Gibson                 Gibson-1-59.4-C-1123__   \n",
       "1044  female       NaN        Klasen              Klasen-3-12.1833-S-3504__   \n",
       "1154  female       NaN        Klasen              Klasen-3-12.1833-S-3504__   \n",
       "1050  female       NaN       Peacock  Peacock-3-13.775-S-SOTON/O.Q. 31013__   \n",
       "1172    male       NaN       Peacock  Peacock-3-13.775-S-SOTON/O.Q. 31013__   \n",
       "1300  female       NaN       Peacock  Peacock-3-13.775-S-SOTON/O.Q. 31013__   \n",
       "1083    male       NaN  van Billiard         van Billiard-3-14.5-S-A/5. 8__   \n",
       "1235    male       NaN  van Billiard         van Billiard-3-14.5-S-A/5. 8__   \n",
       "\n",
       "      Title  SurnameGroupSize                  TicketGroupId  \n",
       "1259  woman                 2                1-C-59.4-11237_  \n",
       "1293  woman                 2                1-C-59.4-11237_  \n",
       "1044  woman                 2             3-S-12.1833-35040_  \n",
       "1154  woman                 2             3-S-12.1833-35040_  \n",
       "1050  woman                 3  3-S-13.775-SOTON/O.Q. 310131_  \n",
       "1172    boy                 3  3-S-13.775-SOTON/O.Q. 310131_  \n",
       "1300  woman                 3  3-S-13.775-SOTON/O.Q. 310131_  \n",
       "1083    boy                 2              3-S-14.5-A/5. 85_  \n",
       "1235    boy                 2              3-S-14.5-A/5. 85_  "
      ]
     },
     "execution_count": 73,
     "metadata": {},
     "output_type": "execute_result"
    }
   ],
   "source": [
    "all_perished_groups.drop(['Age', 'Cabin', 'Embarked', 'Fare', 'Name', 'Parch', 'SibSp', 'Pclass', 'Ticket', \"PassengerId\"], axis = 1)"
   ]
  },
  {
   "cell_type": "markdown",
   "metadata": {},
   "source": [
    "如何确定这些全部遇难组的情况呢？，来看看一下数据："
   ]
  },
  {
   "cell_type": "code",
   "execution_count": 74,
   "metadata": {},
   "outputs": [
    {
     "data": {
      "text/plain": [
       "221"
      ]
     },
     "execution_count": 74,
     "metadata": {},
     "output_type": "execute_result"
    }
   ],
   "source": [
    "one_more_survived_groups.shape[0]"
   ]
  },
  {
   "cell_type": "markdown",
   "metadata": {},
   "source": [
    "### Pclass"
   ]
  },
  {
   "cell_type": "code",
   "execution_count": 75,
   "metadata": {},
   "outputs": [
    {
     "name": "stdout",
     "output_type": "stream",
     "text": [
      "Pclass\n",
      "1    0.920000\n",
      "2    1.000000\n",
      "3    0.364583\n",
      "Name: Survived, dtype: float64\n"
     ]
    },
    {
     "data": {
      "text/plain": [
       "<matplotlib.axes._subplots.AxesSubplot at 0x22f3f26b4a8>"
      ]
     },
     "execution_count": 75,
     "metadata": {},
     "output_type": "execute_result"
    },
    {
     "data": {
      "image/png": "[encoded data removed]",
      "text/plain": [
       "<Figure size 432x108 with 1 Axes>"
      ]
     },
     "metadata": {},
     "output_type": "display_data"
    }
   ],
   "source": [
    "pylab.rcParams['figure.figsize'] = (6.0, 1.5) \n",
    "plt.xticks(ticks=np.linspace(0.1, 1.0, 10))\n",
    "print(one_more_survived_groups.loc[one_more_survived_groups.Survived.notna()].groupby(['Pclass']).Survived.mean())\n",
    "sns.barplot(x= 'Survived', y= 'Pclass', data=one_more_survived_groups.loc[one_more_survived_groups.Survived.notna()], orient='h')"
   ]
  },
  {
   "cell_type": "markdown",
   "metadata": {},
   "source": [
    "### Sex"
   ]
  },
  {
   "cell_type": "code",
   "execution_count": 76,
   "metadata": {},
   "outputs": [
    {
     "data": {
      "text/plain": [
       "<matplotlib.axes._subplots.AxesSubplot at 0x22f402d4be0>"
      ]
     },
     "execution_count": 76,
     "metadata": {},
     "output_type": "execute_result"
    },
    {
     "data": {
      "image/png": "[encoded data removed]",
      "text/plain": [
       "<Figure size 432x72 with 1 Axes>"
      ]
     },
     "metadata": {},
     "output_type": "display_data"
    }
   ],
   "source": [
    "pylab.rcParams['figure.figsize'] = (6.0, 1.0) \n",
    "plt.xticks(ticks=np.linspace(0.1, 1.0, 10))\n",
    "sns.barplot(x= 'Survived', y= 'Sex', data=one_more_survived_groups.loc[one_more_survived_groups.Survived.notna()], orient='h')"
   ]
  },
  {
   "cell_type": "markdown",
   "metadata": {},
   "source": [
    "### Age"
   ]
  },
  {
   "cell_type": "code",
   "execution_count": 77,
   "metadata": {
    "scrolled": true
   },
   "outputs": [
    {
     "data": {
      "text/plain": [
       "<matplotlib.axes._subplots.AxesSubplot at 0x22f40318ba8>"
      ]
     },
     "execution_count": 77,
     "metadata": {},
     "output_type": "execute_result"
    },
    {
     "data": {
      "image/png": "[encoded data removed]",
      "text/plain": [
       "<Figure size 1800x360 with 1 Axes>"
      ]
     },
     "metadata": {},
     "output_type": "display_data"
    }
   ],
   "source": [
    "pylab.rcParams['figure.figsize'] = (25.0, 5.0) \n",
    "sns.barplot(x= 'Age', y= 'Survived', data=one_more_survived_groups.loc[one_more_survived_groups.Survived.notna()], orient='v')"
   ]
  },
  {
   "cell_type": "code",
   "execution_count": 78,
   "metadata": {},
   "outputs": [],
   "source": [
    "def getAgeSegment(age):\n",
    "    age_seg = 5\n",
    "    if age < 15:\n",
    "        age_seg = 1 # aldolescents\n",
    "    elif age <= 32 :\n",
    "        age_seg = 2\n",
    "    elif age <= 60 : # almost retirement age\n",
    "        age_seg = 3\n",
    "    return age_seg"
   ]
  },
  {
   "cell_type": "code",
   "execution_count": 79,
   "metadata": {},
   "outputs": [
    {
     "data": {
      "text/plain": [
       "<matplotlib.axes._subplots.AxesSubplot at 0x22f40744e10>"
      ]
     },
     "execution_count": 79,
     "metadata": {},
     "output_type": "execute_result"
    },
    {
     "data": {
      "image/png": "[encoded data removed]",
      "text/plain": [
       "<Figure size 360x360 with 1 Axes>"
      ]
     },
     "metadata": {},
     "output_type": "display_data"
    }
   ],
   "source": [
    "one_more_survived_groups['AgeSegment'] = np.NaN\n",
    "one_more_survived_groups['AgeSegment'] = one_more_survived_groups.Age.apply(lambda x: x if np.isnan(x) else getAgeSegment(x))\n",
    "pylab.rcParams['figure.figsize'] = (5.0, 5.0) \n",
    "plt.yticks(ticks=np.linspace(0.1, 1.0, 10))\n",
    "sns.barplot(x= 'AgeSegment', y= 'Survived', data=one_more_survived_groups.loc[one_more_survived_groups.Survived.notna() & one_more_survived_groups.Age.notna()])"
   ]
  },
  {
   "cell_type": "markdown",
   "metadata": {},
   "source": [
    "### Embarked"
   ]
  },
  {
   "cell_type": "code",
   "execution_count": 80,
   "metadata": {},
   "outputs": [
    {
     "data": {
      "text/plain": [
       "<matplotlib.axes._subplots.AxesSubplot at 0x22f40744080>"
      ]
     },
     "execution_count": 80,
     "metadata": {},
     "output_type": "execute_result"
    },
    {
     "data": {
      "image/png": "[encoded data removed]",
      "text/plain": [
       "<Figure size 216x288 with 1 Axes>"
      ]
     },
     "metadata": {},
     "output_type": "display_data"
    }
   ],
   "source": [
    "pylab.rcParams['figure.figsize'] = (3.0, 4.0) \n",
    "plt.yticks(ticks=np.linspace(0.1, 1.0, 10))\n",
    "sns.barplot(x= 'Embarked', y= 'Survived', data=one_more_survived_groups.loc[one_more_survived_groups.Survived.notna()], orient='v')"
   ]
  },
  {
   "cell_type": "code",
   "execution_count": 81,
   "metadata": {},
   "outputs": [
    {
     "data": {
      "text/plain": [
       "<matplotlib.axes._subplots.AxesSubplot at 0x22f40526ba8>"
      ]
     },
     "execution_count": 81,
     "metadata": {},
     "output_type": "execute_result"
    },
    {
     "data": {
      "image/png": "[encoded data removed]",
      "text/plain": [
       "<Figure size 216x288 with 1 Axes>"
      ]
     },
     "metadata": {},
     "output_type": "display_data"
    }
   ],
   "source": [
    "plt.yticks(ticks=np.linspace(0.1, 1.0, 10))\n",
    "sns.barplot(x= 'Embarked', y= 'Survived', hue='Pclass' ,data=one_more_survived_groups.loc[one_more_survived_groups.Survived.notna()], orient='v')"
   ]
  },
  {
   "cell_type": "markdown",
   "metadata": {},
   "source": [
    "### Cabin"
   ]
  },
  {
   "cell_type": "code",
   "execution_count": 82,
   "metadata": {},
   "outputs": [
    {
     "data": {
      "text/plain": [
       "279     U\n",
       "1283    U\n",
       "855     U\n",
       "1198    U\n",
       "297     C\n",
       "305     C\n",
       "498     C\n",
       "708     U\n",
       "1032    U\n",
       "119     U\n",
       "Name: Cabin, dtype: object"
      ]
     },
     "execution_count": 82,
     "metadata": {},
     "output_type": "execute_result"
    }
   ],
   "source": [
    "one_more_survived_groups.Cabin = one_more_survived_groups.Cabin.fillna('Unknown')\n",
    "one_more_survived_groups.Cabin.apply(lambda x: str(x)[0]).head(10)"
   ]
  },
  {
   "cell_type": "code",
   "execution_count": 83,
   "metadata": {},
   "outputs": [
    {
     "data": {
      "text/plain": [
       "<matplotlib.axes._subplots.AxesSubplot at 0x22f405c4b38>"
      ]
     },
     "execution_count": 83,
     "metadata": {},
     "output_type": "execute_result"
    },
    {
     "data": {
      "image/png": "[encoded data removed]",
      "text/plain": [
       "<Figure size 360x288 with 1 Axes>"
      ]
     },
     "metadata": {},
     "output_type": "display_data"
    }
   ],
   "source": [
    "one_more_survived_groups['CabinOneBit'] = one_more_survived_groups.Cabin.apply(lambda x: str(x)[0])\n",
    "pylab.rcParams['figure.figsize'] = (5.0, 4.0) \n",
    "sns.barplot(x= 'CabinOneBit', y= 'Survived', data=one_more_survived_groups.loc[one_more_survived_groups.Survived.notna()], orient='v')"
   ]
  },
  {
   "cell_type": "markdown",
   "metadata": {},
   "source": [
    "### Fare"
   ]
  },
  {
   "cell_type": "code",
   "execution_count": 84,
   "metadata": {},
   "outputs": [
    {
     "data": {
      "text/plain": [
       "<matplotlib.axes._subplots.AxesSubplot at 0x22f4063e400>"
      ]
     },
     "execution_count": 84,
     "metadata": {},
     "output_type": "execute_result"
    },
    {
     "data": {
      "image/png": "[encoded data removed]",
      "text/plain": [
       "<Figure size 360x288 with 1 Axes>"
      ]
     },
     "metadata": {},
     "output_type": "display_data"
    }
   ],
   "source": [
    "one_more_survived_groups['CategoricalFare'] = pd.qcut(one_more_survived_groups['Fare'], 10)\n",
    "fare_survived = one_more_survived_groups.loc[:,['CategoricalFare', 'Survived']].groupby(['CategoricalFare']).mean()\n",
    "plt.xticks(rotation=270)\n",
    "plt.yticks(ticks=np.linspace(0.1, 1.0, 10))\n",
    "pylab.rcParams['figure.figsize'] =(5, 5)\n",
    "sns.barplot(x='Survived', y='CategoricalFare', data=one_more_survived_groups, orient='h')\n",
    "#one_more_survived_groups.drop(['CategoricalFare'], axis = 1, inplace=True)"
   ]
  },
  {
   "cell_type": "markdown",
   "metadata": {},
   "source": [
    "## Cross Validation"
   ]
  },
  {
   "cell_type": "code",
   "execution_count": 85,
   "metadata": {},
   "outputs": [],
   "source": [
    "def custom_cv(train_set, num_fold = 5, verbose = False, num_trial = 5):\n",
    "    k = num_fold\n",
    "    sum_accuracy_all_trial = 0.0\n",
    "    size_test_set_in_cv = train_set.shape[0] // num_fold\n",
    "    \n",
    "    getTitleFeature(train_set)\n",
    "    \n",
    "    ## engineering the woman-child-group ##\n",
    "    \n",
    "    # SurnameGroupId\n",
    "    getSurnameGroupId(train_set)\n",
    "    train_set.loc[train_set.Title == 'man', 'SurnameGroupId'] = 'nogroup'\n",
    "    \n",
    "    # SurnameGroupSize\n",
    "    getSurnameGroupSize(train_set)\n",
    "    train_set.loc[train_set.SurnameGroupSize == 1, 'SurnameGroupId'] = 'nogroup'\n",
    "    \n",
    "    ## add nannies cousins friends ##\n",
    "    \n",
    "    # TicketGroupId\n",
    "    getTicketGroupId(train_set)\n",
    "    addNanniesCousinsFriends(train_set, verbose=True)\n",
    "    \n",
    "    #resize SurnameGroupSize\n",
    "    surname_group_id_value_counts = train_set['SurnameGroupId'].value_counts()\n",
    "    train_set['SurnameGroupSize'] = train_set.SurnameGroupId.apply(lambda x: surname_group_id_value_counts.loc[x])\n",
    "\n",
    "    for i in range(0, num_trial):\n",
    "        sum_accuracy_per_trial = 0.0\n",
    "        all_set_in_cv = train_set.sample(n = train.shape[0], random_state= i)\n",
    "        for j in range(0, k):\n",
    "            # get indices of test set and train set in cross validation\n",
    "            start_index = j * size_test_set_in_cv\n",
    "            indices_test_set_in_cv = np.linspace(0, size_test_set_in_cv - 1, num = size_test_set_in_cv, dtype = np.int32) + start_index\n",
    "            indices_train_set_in_cv = all_set_in_cv.drop(labels=indices_test_set_in_cv).index\n",
    "\n",
    "            # get SurnameGroupSurvived in train set \n",
    "            getSurnameGroupSurvival(all_set_in_cv, indices_train_set_in_cv)\n",
    "\n",
    "            # set SurnameGroupSurvived in test set\n",
    "            for idx in indices_test_set_in_cv:\n",
    "                tmp = all_set_in_cv.loc[(all_set_in_cv.SurnameGroupId == all_set_in_cv.loc[idx,['SurnameGroupId']].values[0]) & (all_set_in_cv.SurnameGroupSurvived.notna()), ['SurnameGroupSurvived']]\n",
    "                if tmp.shape[0] > 0:\n",
    "                    all_set_in_cv.loc[idx, ['SurnameGroupSurvived']] = tmp.values[0]\n",
    "                if (pd.isna(all_set_in_cv.loc[idx, ['SurnameGroupSurvived']].values)): # unknown woman-child-group\n",
    "                    if all_set_in_cv.loc[idx, ['Pclass']].values == 3:\n",
    "                        all_set_in_cv.loc[idx, ['SurnameGroupSurvived']] = 0\n",
    "                    else:\n",
    "                        all_set_in_cv.loc[idx, ['SurnameGroupSurvived']] = 1\n",
    "            # female and boy rules\n",
    "            all_set_in_cv['Predict'] = 0.0\n",
    "            all_set_in_cv.loc[all_set_in_cv.Title == 'woman', ['Predict']] = 1.0\n",
    "            all_set_in_cv.loc[(all_set_in_cv.SurnameGroupSurvived == 1) & (all_set_in_cv.Title == 'boy'), ['Predict']] = 1.0\n",
    "            all_set_in_cv.loc[(all_set_in_cv.SurnameGroupSurvived == 0) & (all_set_in_cv.Title == 'woman'), ['Predict']] = 0.0\n",
    "            accuracy_per_time = np.sum(all_set_in_cv.iloc[indices_test_set_in_cv, :].Predict.astype(np.int32).values == all_set_in_cv.iloc[indices_test_set_in_cv, :].Survived.astype(np.int32).values) / size_test_set_in_cv\n",
    "            sum_accuracy_per_trial += accuracy_per_time  \n",
    "\n",
    "        sum_accuracy_per_trial = sum_accuracy_per_trial / num_fold\n",
    "        sum_accuracy_all_trial += sum_accuracy_per_trial\n",
    "        if verbose == True:\n",
    "            print(\"Trial %d has %d-fold CV accuracy = %f\" % (i + 1, num_fold, sum_accuracy_per_trial)) \n",
    "    print('Average accuracy in total %d times trials = %f' % (num_trial, sum_accuracy_all_trial / num_trial)) "
   ]
  },
  {
   "cell_type": "code",
   "execution_count": 86,
   "metadata": {
    "scrolled": true
   },
   "outputs": [
    {
     "name": "stdout",
     "output_type": "stream",
     "text": [
      "Allison-1-151.55-S-1137__\n",
      "Tootally adding 1 nannies, cousins and friends\n",
      "Trial 1 has 10-fold CV accuracy = 0.848315\n",
      "Trial 2 has 10-fold CV accuracy = 0.847191\n",
      "Trial 3 has 10-fold CV accuracy = 0.846067\n",
      "Trial 4 has 10-fold CV accuracy = 0.847191\n",
      "Trial 5 has 10-fold CV accuracy = 0.847191\n",
      "Trial 6 has 10-fold CV accuracy = 0.847191\n",
      "Trial 7 has 10-fold CV accuracy = 0.847191\n",
      "Trial 8 has 10-fold CV accuracy = 0.847191\n",
      "Trial 9 has 10-fold CV accuracy = 0.847191\n",
      "Trial 10 has 10-fold CV accuracy = 0.847191\n",
      "Average accuracy in total 10 times trials = 0.847191\n"
     ]
    }
   ],
   "source": [
    "custom_cv(train, num_fold=10, verbose=True, num_trial=10)"
   ]
  },
  {
   "cell_type": "code",
   "execution_count": 87,
   "metadata": {
    "scrolled": true
   },
   "outputs": [
    {
     "data": {
      "text/plain": [
       "Index(['PassengerId', 'Survived', 'Pclass', 'Name', 'Sex', 'Age', 'SibSp',\n",
       "       'Parch', 'Ticket', 'Fare', 'Cabin', 'Embarked', 'Title', 'Surname',\n",
       "       'SurnameGroupId', 'SurnameGroupSize', 'TicketGroupId'],\n",
       "      dtype='object')"
      ]
     },
     "execution_count": 87,
     "metadata": {},
     "output_type": "execute_result"
    }
   ],
   "source": [
    "train.columns"
   ]
  },
  {
   "cell_type": "markdown",
   "metadata": {},
   "source": [
    "## SurnameGroupSurvived"
   ]
  },
  {
   "cell_type": "code",
   "execution_count": 88,
   "metadata": {},
   "outputs": [],
   "source": [
    "getSurnameGroupSurvival(all_data, train.index)"
   ]
  },
  {
   "cell_type": "markdown",
   "metadata": {},
   "source": [
    "## Make predictions"
   ]
  },
  {
   "cell_type": "code",
   "execution_count": 89,
   "metadata": {},
   "outputs": [
    {
     "name": "stdout",
     "output_type": "stream",
     "text": [
      "nan\n",
      "nan\n",
      "nan\n",
      "nan\n"
     ]
    }
   ],
   "source": [
    "unknown_survived_surname_group =[]\n",
    "count_in_wcg_of_train_set = 0\n",
    "all_data.loc[train.shape[0]:, 'SurnameGroupSurvived'] = np.NaN\n",
    "\n",
    "for idx in range(train.shape[0], all_data.shape[0]):\n",
    "    tmp = all_data.loc[(all_data.SurnameGroupId == all_data.loc[idx, 'SurnameGroupId']), 'SurnameGroupSurvived'].iloc[0]\n",
    "    if pd.notna(tmp):\n",
    "        all_data.loc[idx, ['SurnameGroupSurvived']] = tmp\n",
    "        count_in_wcg_of_train_set += 1\n",
    "    else:\n",
    "        print(tmp)\n",
    "        unknown_survived_surname_group.append(all_data.loc[idx,'SurnameGroupId'])\n",
    "    if (pd.isna(all_data.loc[idx, ['SurnameGroupSurvived']].values)):\n",
    "        if all_data.loc[idx, ['Pclass']].values == 3:\n",
    "            all_data.loc[idx, ['SurnameGroupSurvived']] = 0\n",
    "        else:\n",
    "            all_data.loc[idx, ['SurnameGroupSurvived']] = 1\n",
    "\n",
    "# female and boy rules\n",
    "all_data['Predict'] = 0.0\n",
    "all_data.loc[all_data.Title == 'woman', 'Predict'] = 1.0\n",
    "all_data.loc[(all_data.SurnameGroupSurvived == 1) & (all_data.Title == 'boy'), 'Predict'] = 1.0\n",
    "all_data.loc[(all_data.SurnameGroupSurvived == 0) & (all_data.Title == 'woman'), 'Predict'] = 0.0"
   ]
  },
  {
   "cell_type": "code",
   "execution_count": 90,
   "metadata": {},
   "outputs": [
    {
     "name": "stdout",
     "output_type": "stream",
     "text": [
      "414\n"
     ]
    }
   ],
   "source": [
    "print(count_in_wcg_of_train_set)"
   ]
  },
  {
   "cell_type": "code",
   "execution_count": 91,
   "metadata": {},
   "outputs": [
    {
     "data": {
      "text/plain": [
       "0.8597081930415263"
      ]
     },
     "execution_count": 91,
     "metadata": {},
     "output_type": "execute_result"
    }
   ],
   "source": [
    "np.sum(all_data.loc[:train.shape[0], 'Predict'] == all_data.loc[:train.shape[0], 'Survived']) / train.shape[0]"
   ]
  },
  {
   "cell_type": "code",
   "execution_count": 92,
   "metadata": {},
   "outputs": [],
   "source": [
    "predictions = all_data.loc[train.shape[0]:, 'Predict']\n",
    "PassengerId = np.array(range(892, 892 + predictions.shape[0]))\n",
    "submission = pd.DataFrame({\"PassengerId\": PassengerId, \"Survived\": predictions.astype(np.int32)})"
   ]
  },
  {
   "cell_type": "code",
   "execution_count": 94,
   "metadata": {},
   "outputs": [],
   "source": [
    "submission.to_csv('./data/predictions.csv', index=False)"
   ]
  }
 ],
 "metadata": {
  "kernelspec": {
   "display_name": "Python [conda env:Anaconda3]",
   "language": "python",
   "name": "conda-env-Anaconda3-py"
  },
  "language_info": {
   "codemirror_mode": {
    "name": "ipython",
    "version": 3
   },
   "file_extension": ".py",
   "mimetype": "text/x-python",
   "name": "python",
   "nbconvert_exporter": "python",
   "pygments_lexer": "ipython3",
   "version": "3.6.4"
  },
  "toc": {
   "base_numbering": 1,
   "nav_menu": {},
   "number_sections": true,
   "sideBar": true,
   "skip_h1_title": false,
   "title_cell": "Table of Contents",
   "title_sidebar": "Contents",
   "toc_cell": false,
   "toc_position": {
    "height": "460px",
    "left": "1115px",
    "top": "110px",
    "width": "212px"
   },
   "toc_section_display": true,
   "toc_window_display": true
  }
 },
 "nbformat": 4,
 "nbformat_minor": 2
}
